{
  "nbformat": 4,
  "nbformat_minor": 0,
  "metadata": {
    "colab": {
      "name": "Untitled2.ipynb",
      "provenance": [],
      "collapsed_sections": [],
      "toc_visible": true,
      "mount_file_id": "119v9J76VwpaJiZbacaIEq5lFXA40khZ0",
      "authorship_tag": "ABX9TyPndfeAjEzyWVJa6Rw2GItF",
      "include_colab_link": true
    },
    "kernelspec": {
      "name": "python3",
      "display_name": "Python 3"
    },
    "language_info": {
      "name": "python"
    }
  },
  "cells": [
    {
      "cell_type": "markdown",
      "metadata": {
        "id": "view-in-github",
        "colab_type": "text"
      },
      "source": [
        "<a href=\"https://colab.research.google.com/github/KYHSGeekCode/KYHSGeekCode/blob/master/Untitled2.ipynb\" target=\"_parent\"><img src=\"https://colab.research.google.com/assets/colab-badge.svg\" alt=\"Open In Colab\"/></a>"
      ]
    },
    {
      "cell_type": "markdown",
      "metadata": {
        "id": "5nVhm0HckK_g"
      },
      "source": [
        "Problem 1."
      ]
    },
    {
      "cell_type": "code",
      "metadata": {
        "colab": {
          "base_uri": "https://localhost:8080/",
          "height": 368
        },
        "id": "Me5Pw5GH9Nqx",
        "outputId": "a46c0e5b-8cef-40b1-bc88-941399e496f0"
      },
      "source": [
        "import torch\n",
        "import numpy as np\n",
        "from torch import nn, optim\n",
        "from torch.nn import functional as F\n",
        "from torch.utils.data import TensorDataset, DataLoader\n",
        "import matplotlib.pyplot as plt \n",
        "from sklearn.model_selection import train_test_split\n",
        "\n",
        "alpha = 0.1 \n",
        "K = 1000\n",
        "B = 128 \n",
        "N = 512 \n",
        "\n",
        "def f_true(x) :\n",
        "    return (x-2) * np.cos(x*4)\n",
        "\n",
        "np.random.seed(0)\n",
        "X_train = torch.tensor(np.random.normal(loc = 0.0, scale = 1.0, size = N), dtype=torch.float32)\n",
        "y_train = f_true(X_train)\n",
        "X_val = torch.tensor(np.random.normal(loc = 0.0, scale = 1.0, size = N//5), dtype=torch.float32)\n",
        "y_val = f_true(X_val)\n",
        "\n",
        "train_dataloader = DataLoader(TensorDataset(X_train.unsqueeze(1), y_train.unsqueeze(1)), batch_size=B)\n",
        "test_dataloader = DataLoader(TensorDataset(X_val.unsqueeze(1), y_val.unsqueeze(1)), batch_size=B)\n",
        "\n",
        "'''\n",
        "unsqueeze(1) reshapes the data into dimension [N,1],\n",
        "where is 1 the dimension of an data point.\n",
        "\n",
        "The batchsize of the test dataloader should not affect the test result\n",
        "so setting batch_size=N may simplify your code.\n",
        "In practice, however, the batchsize for the training dataloader\n",
        "is usually chosen to be as large as possible while not exceeding\n",
        "the memory size of the GPU. In such cases, it is not possible to\n",
        "use a larger batchsize for the test dataloader.\n",
        "'''\n",
        "\n",
        "class MLP(nn.Module):\n",
        "    def __init__(self) :\n",
        "        super().__init__()\n",
        "        self.l1 = nn.Linear(1, 64, bias=True)\n",
        "        self.l2 = nn.Linear(64, 64, bias=True)\n",
        "        self.l3 = nn.Linear(64, 1, bias=True)\n",
        "        # self.l4 = nn.Linear(64, 1, bias=True)\n",
        "        self.l1.weight.data = torch.normal(0, 1, self.l1.weight.shape)\n",
        "        self.l1.bias.data = torch.full(self.l1.bias.shape, 0.03)\n",
        "        self.l2.weight.data = torch.normal(0, 1, self.l2.weight.shape)\n",
        "        self.l2.bias.data = torch.full(self.l2.bias.shape, 0.03)\n",
        "        self.l3.weight.data = torch.normal(0, 1, self.l3.weight.shape)\n",
        "        self.l3.bias.data = torch.full(self.l3.bias.shape, 0.03)\n",
        "        # self.l4.weight.data = torch.normal(0, 1, self.l4.weight.shape)\n",
        "        # self.l4.bias.data = torch.full(self.l4.bias.shape, 0.03)\n",
        "\n",
        "        \n",
        "    ''' forward given input x '''\n",
        "    def forward(self, x) :\n",
        "        x = x.float().view(-1, 1)\n",
        "        x = torch.sigmoid(self.l1(x))\n",
        "        x = torch.sigmoid(self.l2(x))\n",
        "        x = self.l3(x)\n",
        "        # x = self.l4(x)\n",
        "        return x\n",
        "    \n",
        "    \n",
        "model = MLP()\n",
        "\n",
        "def the_loss(output, target):\n",
        "    return torch.nn.MSELoss()(output, target)\n",
        "\n",
        "loss_function = the_loss                                                   # Specify loss function\n",
        "optimizer = torch.optim.SGD(model.parameters(), lr=alpha)   # specify SGD with learning rate\n",
        "\n",
        "'''\n",
        "Step 4: Train model with SGD\n",
        "'''\n",
        "for epoch in range(K):\n",
        "  iter_count = 0\n",
        "  for xx, yy in train_dataloader:\n",
        "      iter_count += 1\n",
        "      # if iter_count > N:\n",
        "          # break\n",
        "\n",
        "      # Clear previously computed gradient\n",
        "      optimizer.zero_grad()\n",
        "\n",
        "      # then compute gradient with forward and backward passes\n",
        "      train_loss = loss_function(model(xx), yy)\n",
        "      train_loss.backward()\n",
        "\n",
        "      # perform SGD step (parameter update)\n",
        "      optimizer.step()\n",
        "\n",
        "with torch.no_grad():\n",
        "    xx = torch.linspace(-2,2,1024).unsqueeze(1)\n",
        "    plt.plot(X_train,y_train,'rx',label='Data points')\n",
        "    plt.plot(xx,f_true(xx),'r',label='True Fn')\n",
        "    plt.plot(xx, model(xx),label='Learned Fn')\n",
        "plt.legend()\n",
        "plt.show()\n",
        "\n",
        "'''\n",
        "When plotting torch tensors, you want to work with the\n",
        "torch.no_grad() context manager.\n",
        "\n",
        "When you call plt.plot(...) the torch tensors are first converted into\n",
        "numpy arrays and then the plotting proceeds.\n",
        "However, our trainable model has requires_grad=True to allow automatic\n",
        "gradient computation via backprop, and this option prevents \n",
        "converting the torch tensor output by the model to a numpy array.\n",
        "Using the torch.no_grad() context manager resolves this problem\n",
        "as all tensors are set to requires_grad=False within the context manager.\n",
        "\n",
        "An alternative to using the context manager is to do \n",
        "plt.plot(xx, model(xx).detach().clone())\n",
        "The .detach().clone() operation create a copied pytorch tensor that\n",
        "has requires_grad=False.\n",
        "\n",
        "To be more precise, .detach() creates another tensor with requires_grad=False\n",
        "(it is detached from the computation graph) but this tensor shares the same\n",
        "underlying data with the original tensor. Therefore, this is not a genuine\n",
        "copy (not a deep copy) and modifying the detached tensor will affect the \n",
        "original tensor is weird ways. The .clone() further proceeds to create a\n",
        "genuine copy of the detached tensor, and one can freely manipulate and change it.\n",
        "(For the purposes of plotting, it is fine to just call .detach() without\n",
        ".clone() since plotting does not change the tensor.)\n",
        "\n",
        "This discussion will likely not make sense to most students at this point of the course.\n",
        "We will revisit this issue after we cover backpropagation.\n",
        "\n",
        "'''\n"
      ],
      "execution_count": null,
      "outputs": [
        {
          "output_type": "display_data",
          "data": {
            "image/png": "[encoded data removed]",
            "text/plain": [
              "<Figure size 432x288 with 1 Axes>"
            ]
          },
          "metadata": {
            "needs_background": "light"
          }
        },
        {
          "output_type": "execute_result",
          "data": {
            "application/vnd.google.colaboratory.intrinsic+json": {
              "type": "string"
            },
            "text/plain": [
              "'\\nWhen plotting torch tensors, you want to work with the\\ntorch.no_grad() context manager.\\n\\nWhen you call plt.plot(...) the torch tensors are first converted into\\nnumpy arrays and then the plotting proceeds.\\nHowever, our trainable model has requires_grad=True to allow automatic\\ngradient computation via backprop, and this option prevents \\nconverting the torch tensor output by the model to a numpy array.\\nUsing the torch.no_grad() context manager resolves this problem\\nas all tensors are set to requires_grad=False within the context manager.\\n\\nAn alternative to using the context manager is to do \\nplt.plot(xx, model(xx).detach().clone())\\nThe .detach().clone() operation create a copied pytorch tensor that\\nhas requires_grad=False.\\n\\nTo be more precise, .detach() creates another tensor with requires_grad=False\\n(it is detached from the computation graph) but this tensor shares the same\\nunderlying data with the original tensor. Therefore, this is not a genuine\\ncopy (not a deep copy) and modifying the detached tensor will affect the \\noriginal tensor is weird ways. The .clone() further proceeds to create a\\ngenuine copy of the detached tensor, and one can freely manipulate and change it.\\n(For the purposes of plotting, it is fine to just call .detach() without\\n.clone() since plotting does not change the tensor.)\\n\\nThis discussion will likely not make sense to most students at this point of the course.\\nWe will revisit this issue after we cover backpropagation.\\n\\n'"
            ]
          },
          "metadata": {},
          "execution_count": 4
        }
      ]
    },
    {
      "cell_type": "markdown",
      "metadata": {
        "id": "5Aq2Ex_fkQ4q"
      },
      "source": [
        "Problem 2."
      ]
    },
    {
      "cell_type": "code",
      "metadata": {
        "colab": {
          "base_uri": "https://localhost:8080/",
          "height": 385
        },
        "id": "Jy8iwzRykS1O",
        "outputId": "4f03e3df-8cd2-453d-a8fc-3bab4ea95890"
      },
      "source": [
        "import torch\n",
        "import numpy as np\n",
        "from torch import nn, optim\n",
        "from torch.nn import functional as F\n",
        "from torch.utils.data import TensorDataset, DataLoader\n",
        "import matplotlib.pyplot as plt \n",
        "from sklearn.model_selection import train_test_split\n",
        "\n",
        "alpha = 0.1 \n",
        "K = 1000\n",
        "B = 128 \n",
        "N = 512 \n",
        "\n",
        "def f_true(x) :\n",
        "    return (x-2) * np.cos(x*4)\n",
        "\n",
        "np.random.seed(0)\n",
        "X_train = torch.tensor(np.random.normal(loc = 0.0, scale = 1.0, size = N), dtype=torch.float32)\n",
        "y_train = f_true ( X_train ) + torch . normal (0 , 0.5 , X_train . shape )\n",
        "X_val = torch.tensor(np.random.normal(loc = 0.0, scale = 1.0, size = N//5), dtype=torch.float32)\n",
        "y_val = f_true(X_val)\n",
        "\n",
        "train_dataloader = DataLoader(TensorDataset(X_train.unsqueeze(1), y_train.unsqueeze(1)), batch_size=B)\n",
        "test_dataloader = DataLoader(TensorDataset(X_val.unsqueeze(1), y_val.unsqueeze(1)), batch_size=B)\n",
        "\n",
        "'''\n",
        "unsqueeze(1) reshapes the data into dimension [N,1],\n",
        "where is 1 the dimension of an data point.\n",
        "\n",
        "The batchsize of the test dataloader should not affect the test result\n",
        "so setting batch_size=N may simplify your code.\n",
        "In practice, however, the batchsize for the training dataloader\n",
        "is usually chosen to be as large as possible while not exceeding\n",
        "the memory size of the GPU. In such cases, it is not possible to\n",
        "use a larger batchsize for the test dataloader.\n",
        "'''\n",
        "\n",
        "class MLP(nn.Module):\n",
        "    def __init__(self) :\n",
        "        super().__init__()\n",
        "        self.l1 = nn.Linear(1, 64, bias=True)\n",
        "        self.l2 = nn.Linear(64, 64, bias=True)\n",
        "        self.l3 = nn.Linear(64, 1, bias=True)\n",
        "        # self.l4 = nn.Linear(64, 1, bias=True)\n",
        "        self.l1.weight.data = torch.normal(0, 1, self.l1.weight.shape)\n",
        "        self.l1.bias.data = torch.full(self.l1.bias.shape, 0.03)\n",
        "        self.l2.weight.data = torch.normal(0, 1, self.l2.weight.shape)\n",
        "        self.l2.bias.data = torch.full(self.l2.bias.shape, 0.03)\n",
        "        self.l3.weight.data = torch.normal(0, 1, self.l3.weight.shape)\n",
        "        self.l3.bias.data = torch.full(self.l3.bias.shape, 0.03)\n",
        "        # self.l4.weight.data = torch.normal(0, 1, self.l4.weight.shape)\n",
        "        # self.l4.bias.data = torch.full(self.l4.bias.shape, 0.03)\n",
        "\n",
        "        \n",
        "    ''' forward given input x '''\n",
        "    def forward(self, x) :\n",
        "        x = x.float().view(-1, 1)\n",
        "        x = torch.sigmoid(self.l1(x))\n",
        "        x = torch.sigmoid(self.l2(x))\n",
        "        x = self.l3(x)\n",
        "        # x = self.l4(x)\n",
        "        return x\n",
        "    \n",
        "    \n",
        "model = MLP()\n",
        "\n",
        "def the_loss(output, target):\n",
        "    return torch.nn.MSELoss()(output, target)\n",
        "\n",
        "loss_function = the_loss                                                   # Specify loss function\n",
        "optimizer = torch.optim.SGD(model.parameters(), lr=alpha)   # specify SGD with learning rate\n",
        "\n",
        "'''\n",
        "Step 4: Train model with SGD\n",
        "'''\n",
        "for epoch in range(K):\n",
        "  iter_count = 0\n",
        "  for xx, yy in train_dataloader:\n",
        "      iter_count += 1\n",
        "      # if iter_count > N:\n",
        "          # break\n",
        "\n",
        "      # Clear previously computed gradient\n",
        "      optimizer.zero_grad()\n",
        "\n",
        "      # then compute gradient with forward and backward passes\n",
        "      train_loss = loss_function(model(xx), yy)\n",
        "      train_loss.backward()\n",
        "\n",
        "      # perform SGD step (parameter update)\n",
        "      optimizer.step()\n",
        "\n",
        "with torch.no_grad():\n",
        "    xx = torch.linspace(-2,2,1024).unsqueeze(1)\n",
        "    plt.plot(X_train,y_train,'rx',label='Data points')\n",
        "    plt.plot(xx,f_true(xx),'r',label='True Fn')\n",
        "    plt.plot(xx, model(xx),label='Learned Fn')\n",
        "plt.legend()\n",
        "plt.show()\n",
        "\n",
        "'''\n",
        "When plotting torch tensors, you want to work with the\n",
        "torch.no_grad() context manager.\n",
        "\n",
        "When you call plt.plot(...) the torch tensors are first converted into\n",
        "numpy arrays and then the plotting proceeds.\n",
        "However, our trainable model has requires_grad=True to allow automatic\n",
        "gradient computation via backprop, and this option prevents \n",
        "converting the torch tensor output by the model to a numpy array.\n",
        "Using the torch.no_grad() context manager resolves this problem\n",
        "as all tensors are set to requires_grad=False within the context manager.\n",
        "\n",
        "An alternative to using the context manager is to do \n",
        "plt.plot(xx, model(xx).detach().clone())\n",
        "The .detach().clone() operation create a copied pytorch tensor that\n",
        "has requires_grad=False.\n",
        "\n",
        "To be more precise, .detach() creates another tensor with requires_grad=False\n",
        "(it is detached from the computation graph) but this tensor shares the same\n",
        "underlying data with the original tensor. Therefore, this is not a genuine\n",
        "copy (not a deep copy) and modifying the detached tensor will affect the \n",
        "original tensor is weird ways. The .clone() further proceeds to create a\n",
        "genuine copy of the detached tensor, and one can freely manipulate and change it.\n",
        "(For the purposes of plotting, it is fine to just call .detach() without\n",
        ".clone() since plotting does not change the tensor.)\n",
        "\n",
        "This discussion will likely not make sense to most students at this point of the course.\n",
        "We will revisit this issue after we cover backpropagation.\n",
        "\n",
        "'''\n"
      ],
      "execution_count": 10,
      "outputs": [
        {
          "output_type": "display_data",
          "data": {
            "image/png": "[encoded data removed]",
            "text/plain": [
              "<Figure size 432x288 with 1 Axes>"
            ]
          },
          "metadata": {
            "needs_background": "light"
          }
        },
        {
          "output_type": "execute_result",
          "data": {
            "application/vnd.google.colaboratory.intrinsic+json": {
              "type": "string"
            },
            "text/plain": [
              "'\\nWhen plotting torch tensors, you want to work with the\\ntorch.no_grad() context manager.\\n\\nWhen you call plt.plot(...) the torch tensors are first converted into\\nnumpy arrays and then the plotting proceeds.\\nHowever, our trainable model has requires_grad=True to allow automatic\\ngradient computation via backprop, and this option prevents \\nconverting the torch tensor output by the model to a numpy array.\\nUsing the torch.no_grad() context manager resolves this problem\\nas all tensors are set to requires_grad=False within the context manager.\\n\\nAn alternative to using the context manager is to do \\nplt.plot(xx, model(xx).detach().clone())\\nThe .detach().clone() operation create a copied pytorch tensor that\\nhas requires_grad=False.\\n\\nTo be more precise, .detach() creates another tensor with requires_grad=False\\n(it is detached from the computation graph) but this tensor shares the same\\nunderlying data with the original tensor. Therefore, this is not a genuine\\ncopy (not a deep copy) and modifying the detached tensor will affect the \\noriginal tensor is weird ways. The .clone() further proceeds to create a\\ngenuine copy of the detached tensor, and one can freely manipulate and change it.\\n(For the purposes of plotting, it is fine to just call .detach() without\\n.clone() since plotting does not change the tensor.)\\n\\nThis discussion will likely not make sense to most students at this point of the course.\\nWe will revisit this issue after we cover backpropagation.\\n\\n'"
            ]
          },
          "metadata": {},
          "execution_count": 10
        }
      ]
    }
  ]
}